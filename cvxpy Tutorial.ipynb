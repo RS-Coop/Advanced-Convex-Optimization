{
 "cells": [
  {
   "cell_type": "code",
   "execution_count": 1,
   "id": "illegal-adobe",
   "metadata": {},
   "outputs": [],
   "source": [
    "import matplotlib.pyplot as plt\n",
    "import numpy as np\n",
    "import cvxpy as cvx\n",
    "\n",
    "%matplotlib inline"
   ]
  },
  {
   "cell_type": "code",
   "execution_count": 14,
   "id": "final-substance",
   "metadata": {},
   "outputs": [],
   "source": [
    "A = np.array([1, 2, 3, 4, 5, 6, 7, 8, 9, 10, 11,\n",
    "                1, 2, 3, 4, 5, 6, 7, 8, 9, 10, 11,\n",
    "                1, 2, 3, 4, 5, 6, 7, 8, 9, 10, 11,\n",
    "                1, 2, 3, 4, 5, 6, 7, 8, 9, 10, 11,\n",
    "                1, 2, 3, 4, 5, 6]).reshape((10,5)).T\n",
    "\n",
    "y = np.array([1,2,3,4,5]).reshape((5,1))"
   ]
  },
  {
   "cell_type": "markdown",
   "id": "manual-exhaust",
   "metadata": {},
   "source": [
    "## Problem 1"
   ]
  },
  {
   "cell_type": "code",
   "execution_count": 33,
   "id": "cardiovascular-conspiracy",
   "metadata": {},
   "outputs": [],
   "source": [
    "x = cvx.Variable((10,1))\n",
    "objective1 = cvx.Minimize(cvx.norm(x))\n",
    "constraints1 = [cvx.norm(A@x-y) <= 0.1]\n",
    "prob1 = cvx.Problem(objective1, constraints1)"
   ]
  },
  {
   "cell_type": "code",
   "execution_count": 34,
   "id": "pressed-console",
   "metadata": {},
   "outputs": [
    {
     "data": {
      "text/plain": [
       "0.29421647602140294"
      ]
     },
     "execution_count": 34,
     "metadata": {},
     "output_type": "execute_result"
    }
   ],
   "source": [
    "prob1.solve()"
   ]
  },
  {
   "cell_type": "markdown",
   "id": "sweet-qatar",
   "metadata": {},
   "source": [
    "## Problem 2"
   ]
  },
  {
   "cell_type": "code",
   "execution_count": 35,
   "id": "large-uzbekistan",
   "metadata": {},
   "outputs": [],
   "source": [
    "x = cvx.Variable((10,1))\n",
    "objective2 = cvx.Minimize(cvx.norm(x)**2)\n",
    "constraints2 = [cvx.norm(A@x-y) <= 0.1]\n",
    "prob2 = cvx.Problem(objective2, constraints2)"
   ]
  },
  {
   "cell_type": "code",
   "execution_count": 36,
   "id": "different-growing",
   "metadata": {},
   "outputs": [
    {
     "data": {
      "text/plain": [
       "0.08656333461080183"
      ]
     },
     "execution_count": 36,
     "metadata": {},
     "output_type": "execute_result"
    }
   ],
   "source": [
    "prob2.solve()"
   ]
  },
  {
   "cell_type": "markdown",
   "id": "intended-minority",
   "metadata": {},
   "source": [
    "## Problem 3"
   ]
  },
  {
   "cell_type": "code",
   "execution_count": 37,
   "id": "subject-strike",
   "metadata": {},
   "outputs": [],
   "source": [
    "x = cvx.Variable((10,1))\n",
    "objective3 = cvx.Minimize(cvx.sum(cvx.abs(x)))\n",
    "constraints3 = [cvx.norm(A@x-y) <= 0.1]\n",
    "prob3 = cvx.Problem(objective3, constraints3)"
   ]
  },
  {
   "cell_type": "code",
   "execution_count": 38,
   "id": "attractive-thing",
   "metadata": {},
   "outputs": [
    {
     "data": {
      "text/plain": [
       "0.7876692192974815"
      ]
     },
     "execution_count": 38,
     "metadata": {},
     "output_type": "execute_result"
    }
   ],
   "source": [
    "prob3.solve()"
   ]
  },
  {
   "cell_type": "markdown",
   "id": "interested-defense",
   "metadata": {},
   "source": [
    "## Problem 4"
   ]
  },
  {
   "cell_type": "code",
   "execution_count": 41,
   "id": "intense-circumstances",
   "metadata": {},
   "outputs": [
    {
     "name": "stdout",
     "output_type": "stream",
     "text": [
      "0.07086367100548159\n"
     ]
    }
   ],
   "source": [
    "dual = constraints1[0].dual_value\n",
    "print(dual)"
   ]
  },
  {
   "cell_type": "code",
   "execution_count": 42,
   "id": "monetary-centre",
   "metadata": {},
   "outputs": [],
   "source": [
    "x = cvx.Variable((10,1))\n",
    "objective4 = cvx.Minimize(cvx.norm(x)+dual*cvx.norm(A@x-y))\n",
    "prob4 = cvx.Problem(objective4, []])"
   ]
  },
  {
   "cell_type": "code",
   "execution_count": 44,
   "id": "increasing-crowd",
   "metadata": {},
   "outputs": [
    {
     "data": {
      "text/plain": [
       "0.3013028434170905"
      ]
     },
     "execution_count": 44,
     "metadata": {},
     "output_type": "execute_result"
    }
   ],
   "source": [
    "prob4.solve()"
   ]
  },
  {
   "cell_type": "markdown",
   "id": "synthetic-worse",
   "metadata": {},
   "source": [
    "## Problem 5"
   ]
  },
  {
   "cell_type": "code",
   "execution_count": 53,
   "id": "personalized-cycle",
   "metadata": {},
   "outputs": [],
   "source": [
    "x = cvx.Variable((5,1))\n",
    "i = np.ones((1,10))\n",
    "objective5 = cvx.Minimize(cvx.mixed_norm(cvx.transpose(A-x@i)))\n",
    "prob5 = cvx.Problem(objective5, [])"
   ]
  },
  {
   "cell_type": "code",
   "execution_count": 54,
   "id": "negative-killing",
   "metadata": {},
   "outputs": [
    {
     "data": {
      "text/plain": [
       "63.95513839524732"
      ]
     },
     "execution_count": 54,
     "metadata": {},
     "output_type": "execute_result"
    }
   ],
   "source": [
    "prob5.solve()"
   ]
  },
  {
   "cell_type": "markdown",
   "id": "center-leadership",
   "metadata": {},
   "source": [
    "## Problem 6"
   ]
  },
  {
   "cell_type": "code",
   "execution_count": 55,
   "id": "embedded-grain",
   "metadata": {},
   "outputs": [],
   "source": [
    "x = cvx.Variable((5,1))\n",
    "i = np.ones((1,10))\n",
    "objective6 = cvx.Minimize(cvx.norm(A-x@i))\n",
    "prob6 = cvx.Problem(objective6, [])"
   ]
  },
  {
   "cell_type": "code",
   "execution_count": 56,
   "id": "understood-mason",
   "metadata": {},
   "outputs": [
    {
     "data": {
      "text/plain": [
       "14.3922004007822"
      ]
     },
     "execution_count": 56,
     "metadata": {},
     "output_type": "execute_result"
    }
   ],
   "source": [
    "prob6.solve()"
   ]
  },
  {
   "cell_type": "markdown",
   "id": "automotive-section",
   "metadata": {},
   "source": [
    "## Problem 7"
   ]
  },
  {
   "cell_type": "code",
   "execution_count": 67,
   "id": "varied-lease",
   "metadata": {},
   "outputs": [],
   "source": [
    "X = cvx.Variable((5,10))\n",
    "i5 = np.ones((1,5))\n",
    "i10 = np.ones((10,1))\n",
    "objective7 = cvx.Minimize(cvx.norm(X-A, 'fro'))\n",
    "constraint7 = [i5@X@i10 == 1]\n",
    "prob7 = cvx.Problem(objective7, constraint7)"
   ]
  },
  {
   "cell_type": "code",
   "execution_count": 68,
   "id": "optical-requirement",
   "metadata": {},
   "outputs": [
    {
     "data": {
      "text/plain": [
       "40.16366509797013"
      ]
     },
     "execution_count": 68,
     "metadata": {},
     "output_type": "execute_result"
    }
   ],
   "source": [
    "prob7.solve()"
   ]
  },
  {
   "cell_type": "markdown",
   "id": "freelance-duplicate",
   "metadata": {},
   "source": [
    "## Problem 8"
   ]
  },
  {
   "cell_type": "code",
   "execution_count": 71,
   "id": "selective-project",
   "metadata": {},
   "outputs": [],
   "source": [
    "X = cvx.Variable((5,5))\n",
    "B = A[:,:5]\n",
    "objective8 = cvx.Minimize(cvx.norm(X-B, 'fro'))\n",
    "constraint8 = [X>>0, X == X.T]\n",
    "prob8 = cvx.Problem(objective8, constraint8)"
   ]
  },
  {
   "cell_type": "code",
   "execution_count": 72,
   "id": "respective-newman",
   "metadata": {},
   "outputs": [
    {
     "data": {
      "text/plain": [
       "14.435991285749601"
      ]
     },
     "execution_count": 72,
     "metadata": {},
     "output_type": "execute_result"
    }
   ],
   "source": [
    "prob8.solve()"
   ]
  }
 ],
 "metadata": {
  "kernelspec": {
   "display_name": "Python 3",
   "language": "python",
   "name": "python3"
  },
  "language_info": {
   "codemirror_mode": {
    "name": "ipython",
    "version": 3
   },
   "file_extension": ".py",
   "mimetype": "text/x-python",
   "name": "python",
   "nbconvert_exporter": "python",
   "pygments_lexer": "ipython3",
   "version": "3.8.5"
  }
 },
 "nbformat": 4,
 "nbformat_minor": 5
}
