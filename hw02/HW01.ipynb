{
 "cells": [
  {
   "cell_type": "markdown",
   "metadata": {},
   "source": [
    "# Adv. Convex Optimization - Homework 2\n",
    "### Cooper Simpson"
   ]
  },
  {
   "cell_type": "markdown",
   "metadata": {},
   "source": [
    "Our goal is to compare least squares (i.e. $\\ell_2$) regression and $\\ell_1$ regression -- the forms of which are given below.\n",
    "\n",
    "$$\n",
    "\\ell_1\\text{ regression: }\\beta_1 = argmin||X\\beta-y||_1\\\\\n",
    "\\text{Least Squares: } \\beta_2 = argmin||X\\beta-y||_2\n",
    "$$"
   ]
  },
  {
   "cell_type": "markdown",
   "metadata": {},
   "source": [
    "## Setup"
   ]
  },
  {
   "cell_type": "code",
   "execution_count": 1,
   "metadata": {},
   "outputs": [],
   "source": [
    "import numpy as np\n",
    "import pandas as pd\n",
    "import matplotlib.pyplot as plt\n",
    "import seaborn as sns\n",
    "import cvxpy as cvp\n",
    "from scipy import stats\n",
    "\n",
    "sns.set()"
   ]
  },
  {
   "cell_type": "markdown",
   "metadata": {},
   "source": [
    "## Data"
   ]
  },
  {
   "cell_type": "markdown",
   "metadata": {},
   "source": [
    "First, we load our data into a dataframe and examine some of its basic qualities."
   ]
  },
  {
   "cell_type": "code",
   "execution_count": 2,
   "metadata": {},
   "outputs": [],
   "source": [
    "wine_df = pd.read_csv(\"winequality-white.csv\", sep=';')\n",
    "r, c = wine_df.shape"
   ]
  },
  {
   "cell_type": "code",
   "execution_count": 3,
   "metadata": {},
   "outputs": [
    {
     "data": {
      "text/html": [
       "<div>\n",
       "<style scoped>\n",
       "    .dataframe tbody tr th:only-of-type {\n",
       "        vertical-align: middle;\n",
       "    }\n",
       "\n",
       "    .dataframe tbody tr th {\n",
       "        vertical-align: top;\n",
       "    }\n",
       "\n",
       "    .dataframe thead th {\n",
       "        text-align: right;\n",
       "    }\n",
       "</style>\n",
       "<table border=\"1\" class=\"dataframe\">\n",
       "  <thead>\n",
       "    <tr style=\"text-align: right;\">\n",
       "      <th></th>\n",
       "      <th>fixed acidity</th>\n",
       "      <th>volatile acidity</th>\n",
       "      <th>citric acid</th>\n",
       "      <th>residual sugar</th>\n",
       "      <th>chlorides</th>\n",
       "      <th>free sulfur dioxide</th>\n",
       "      <th>total sulfur dioxide</th>\n",
       "      <th>density</th>\n",
       "      <th>pH</th>\n",
       "      <th>sulphates</th>\n",
       "      <th>alcohol</th>\n",
       "      <th>quality</th>\n",
       "    </tr>\n",
       "  </thead>\n",
       "  <tbody>\n",
       "    <tr>\n",
       "      <th>0</th>\n",
       "      <td>7.0</td>\n",
       "      <td>0.27</td>\n",
       "      <td>0.36</td>\n",
       "      <td>20.7</td>\n",
       "      <td>0.045</td>\n",
       "      <td>45.0</td>\n",
       "      <td>170.0</td>\n",
       "      <td>1.0010</td>\n",
       "      <td>3.00</td>\n",
       "      <td>0.45</td>\n",
       "      <td>8.8</td>\n",
       "      <td>6</td>\n",
       "    </tr>\n",
       "    <tr>\n",
       "      <th>1</th>\n",
       "      <td>6.3</td>\n",
       "      <td>0.30</td>\n",
       "      <td>0.34</td>\n",
       "      <td>1.6</td>\n",
       "      <td>0.049</td>\n",
       "      <td>14.0</td>\n",
       "      <td>132.0</td>\n",
       "      <td>0.9940</td>\n",
       "      <td>3.30</td>\n",
       "      <td>0.49</td>\n",
       "      <td>9.5</td>\n",
       "      <td>6</td>\n",
       "    </tr>\n",
       "    <tr>\n",
       "      <th>2</th>\n",
       "      <td>8.1</td>\n",
       "      <td>0.28</td>\n",
       "      <td>0.40</td>\n",
       "      <td>6.9</td>\n",
       "      <td>0.050</td>\n",
       "      <td>30.0</td>\n",
       "      <td>97.0</td>\n",
       "      <td>0.9951</td>\n",
       "      <td>3.26</td>\n",
       "      <td>0.44</td>\n",
       "      <td>10.1</td>\n",
       "      <td>6</td>\n",
       "    </tr>\n",
       "    <tr>\n",
       "      <th>3</th>\n",
       "      <td>7.2</td>\n",
       "      <td>0.23</td>\n",
       "      <td>0.32</td>\n",
       "      <td>8.5</td>\n",
       "      <td>0.058</td>\n",
       "      <td>47.0</td>\n",
       "      <td>186.0</td>\n",
       "      <td>0.9956</td>\n",
       "      <td>3.19</td>\n",
       "      <td>0.40</td>\n",
       "      <td>9.9</td>\n",
       "      <td>6</td>\n",
       "    </tr>\n",
       "    <tr>\n",
       "      <th>4</th>\n",
       "      <td>7.2</td>\n",
       "      <td>0.23</td>\n",
       "      <td>0.32</td>\n",
       "      <td>8.5</td>\n",
       "      <td>0.058</td>\n",
       "      <td>47.0</td>\n",
       "      <td>186.0</td>\n",
       "      <td>0.9956</td>\n",
       "      <td>3.19</td>\n",
       "      <td>0.40</td>\n",
       "      <td>9.9</td>\n",
       "      <td>6</td>\n",
       "    </tr>\n",
       "  </tbody>\n",
       "</table>\n",
       "</div>"
      ],
      "text/plain": [
       "   fixed acidity  volatile acidity  citric acid  residual sugar  chlorides  \\\n",
       "0            7.0              0.27         0.36            20.7      0.045   \n",
       "1            6.3              0.30         0.34             1.6      0.049   \n",
       "2            8.1              0.28         0.40             6.9      0.050   \n",
       "3            7.2              0.23         0.32             8.5      0.058   \n",
       "4            7.2              0.23         0.32             8.5      0.058   \n",
       "\n",
       "   free sulfur dioxide  total sulfur dioxide  density    pH  sulphates  \\\n",
       "0                 45.0                 170.0   1.0010  3.00       0.45   \n",
       "1                 14.0                 132.0   0.9940  3.30       0.49   \n",
       "2                 30.0                  97.0   0.9951  3.26       0.44   \n",
       "3                 47.0                 186.0   0.9956  3.19       0.40   \n",
       "4                 47.0                 186.0   0.9956  3.19       0.40   \n",
       "\n",
       "   alcohol  quality  \n",
       "0      8.8        6  \n",
       "1      9.5        6  \n",
       "2     10.1        6  \n",
       "3      9.9        6  \n",
       "4      9.9        6  "
      ]
     },
     "execution_count": 3,
     "metadata": {},
     "output_type": "execute_result"
    }
   ],
   "source": [
    "wine_df.head()"
   ]
  },
  {
   "cell_type": "code",
   "execution_count": 80,
   "metadata": {},
   "outputs": [
    {
     "data": {
      "text/html": [
       "<div>\n",
       "<style scoped>\n",
       "    .dataframe tbody tr th:only-of-type {\n",
       "        vertical-align: middle;\n",
       "    }\n",
       "\n",
       "    .dataframe tbody tr th {\n",
       "        vertical-align: top;\n",
       "    }\n",
       "\n",
       "    .dataframe thead th {\n",
       "        text-align: right;\n",
       "    }\n",
       "</style>\n",
       "<table border=\"1\" class=\"dataframe\">\n",
       "  <thead>\n",
       "    <tr style=\"text-align: right;\">\n",
       "      <th></th>\n",
       "      <th>fixed acidity</th>\n",
       "      <th>volatile acidity</th>\n",
       "      <th>citric acid</th>\n",
       "      <th>residual sugar</th>\n",
       "      <th>chlorides</th>\n",
       "      <th>free sulfur dioxide</th>\n",
       "      <th>total sulfur dioxide</th>\n",
       "      <th>density</th>\n",
       "      <th>pH</th>\n",
       "      <th>sulphates</th>\n",
       "      <th>alcohol</th>\n",
       "      <th>quality</th>\n",
       "    </tr>\n",
       "  </thead>\n",
       "  <tbody>\n",
       "    <tr>\n",
       "      <th>count</th>\n",
       "      <td>4898.000</td>\n",
       "      <td>4898.000</td>\n",
       "      <td>4898.000</td>\n",
       "      <td>4898.000</td>\n",
       "      <td>4898.000</td>\n",
       "      <td>4898.000</td>\n",
       "      <td>4898.000</td>\n",
       "      <td>4898.000</td>\n",
       "      <td>4898.000</td>\n",
       "      <td>4898.000</td>\n",
       "      <td>4898.000</td>\n",
       "      <td>4898.000</td>\n",
       "    </tr>\n",
       "    <tr>\n",
       "      <th>mean</th>\n",
       "      <td>6.855</td>\n",
       "      <td>0.278</td>\n",
       "      <td>0.334</td>\n",
       "      <td>6.391</td>\n",
       "      <td>0.046</td>\n",
       "      <td>35.308</td>\n",
       "      <td>138.361</td>\n",
       "      <td>0.994</td>\n",
       "      <td>3.188</td>\n",
       "      <td>0.490</td>\n",
       "      <td>10.514</td>\n",
       "      <td>5.878</td>\n",
       "    </tr>\n",
       "    <tr>\n",
       "      <th>std</th>\n",
       "      <td>0.844</td>\n",
       "      <td>0.101</td>\n",
       "      <td>0.121</td>\n",
       "      <td>5.072</td>\n",
       "      <td>0.022</td>\n",
       "      <td>17.007</td>\n",
       "      <td>42.498</td>\n",
       "      <td>0.003</td>\n",
       "      <td>0.151</td>\n",
       "      <td>0.114</td>\n",
       "      <td>1.231</td>\n",
       "      <td>0.886</td>\n",
       "    </tr>\n",
       "    <tr>\n",
       "      <th>min</th>\n",
       "      <td>3.800</td>\n",
       "      <td>0.080</td>\n",
       "      <td>0.000</td>\n",
       "      <td>0.600</td>\n",
       "      <td>0.009</td>\n",
       "      <td>2.000</td>\n",
       "      <td>9.000</td>\n",
       "      <td>0.987</td>\n",
       "      <td>2.720</td>\n",
       "      <td>0.220</td>\n",
       "      <td>8.000</td>\n",
       "      <td>3.000</td>\n",
       "    </tr>\n",
       "    <tr>\n",
       "      <th>25%</th>\n",
       "      <td>6.300</td>\n",
       "      <td>0.210</td>\n",
       "      <td>0.270</td>\n",
       "      <td>1.700</td>\n",
       "      <td>0.036</td>\n",
       "      <td>23.000</td>\n",
       "      <td>108.000</td>\n",
       "      <td>0.992</td>\n",
       "      <td>3.090</td>\n",
       "      <td>0.410</td>\n",
       "      <td>9.500</td>\n",
       "      <td>5.000</td>\n",
       "    </tr>\n",
       "    <tr>\n",
       "      <th>50%</th>\n",
       "      <td>6.800</td>\n",
       "      <td>0.260</td>\n",
       "      <td>0.320</td>\n",
       "      <td>5.200</td>\n",
       "      <td>0.043</td>\n",
       "      <td>34.000</td>\n",
       "      <td>134.000</td>\n",
       "      <td>0.994</td>\n",
       "      <td>3.180</td>\n",
       "      <td>0.470</td>\n",
       "      <td>10.400</td>\n",
       "      <td>6.000</td>\n",
       "    </tr>\n",
       "    <tr>\n",
       "      <th>75%</th>\n",
       "      <td>7.300</td>\n",
       "      <td>0.320</td>\n",
       "      <td>0.390</td>\n",
       "      <td>9.900</td>\n",
       "      <td>0.050</td>\n",
       "      <td>46.000</td>\n",
       "      <td>167.000</td>\n",
       "      <td>0.996</td>\n",
       "      <td>3.280</td>\n",
       "      <td>0.550</td>\n",
       "      <td>11.400</td>\n",
       "      <td>6.000</td>\n",
       "    </tr>\n",
       "    <tr>\n",
       "      <th>max</th>\n",
       "      <td>14.200</td>\n",
       "      <td>1.100</td>\n",
       "      <td>1.660</td>\n",
       "      <td>65.800</td>\n",
       "      <td>0.346</td>\n",
       "      <td>289.000</td>\n",
       "      <td>440.000</td>\n",
       "      <td>1.039</td>\n",
       "      <td>3.820</td>\n",
       "      <td>1.080</td>\n",
       "      <td>14.200</td>\n",
       "      <td>9.000</td>\n",
       "    </tr>\n",
       "  </tbody>\n",
       "</table>\n",
       "</div>"
      ],
      "text/plain": [
       "       fixed acidity  volatile acidity  citric acid  residual sugar  \\\n",
       "count       4898.000          4898.000     4898.000        4898.000   \n",
       "mean           6.855             0.278        0.334           6.391   \n",
       "std            0.844             0.101        0.121           5.072   \n",
       "min            3.800             0.080        0.000           0.600   \n",
       "25%            6.300             0.210        0.270           1.700   \n",
       "50%            6.800             0.260        0.320           5.200   \n",
       "75%            7.300             0.320        0.390           9.900   \n",
       "max           14.200             1.100        1.660          65.800   \n",
       "\n",
       "       chlorides  free sulfur dioxide  total sulfur dioxide   density  \\\n",
       "count   4898.000             4898.000              4898.000  4898.000   \n",
       "mean       0.046               35.308               138.361     0.994   \n",
       "std        0.022               17.007                42.498     0.003   \n",
       "min        0.009                2.000                 9.000     0.987   \n",
       "25%        0.036               23.000               108.000     0.992   \n",
       "50%        0.043               34.000               134.000     0.994   \n",
       "75%        0.050               46.000               167.000     0.996   \n",
       "max        0.346              289.000               440.000     1.039   \n",
       "\n",
       "             pH  sulphates   alcohol   quality  \n",
       "count  4898.000   4898.000  4898.000  4898.000  \n",
       "mean      3.188      0.490    10.514     5.878  \n",
       "std       0.151      0.114     1.231     0.886  \n",
       "min       2.720      0.220     8.000     3.000  \n",
       "25%       3.090      0.410     9.500     5.000  \n",
       "50%       3.180      0.470    10.400     6.000  \n",
       "75%       3.280      0.550    11.400     6.000  \n",
       "max       3.820      1.080    14.200     9.000  "
      ]
     },
     "execution_count": 80,
     "metadata": {},
     "output_type": "execute_result"
    }
   ],
   "source": [
    "wine_df.describe().round(3)"
   ]
  },
  {
   "cell_type": "markdown",
   "metadata": {},
   "source": [
    "We can see that each data point has 12 associated features, and in total we have almost 5,000 examples. Our goal is to estimate the quality feature of an example using the 11 other features."
   ]
  },
  {
   "cell_type": "markdown",
   "metadata": {},
   "source": [
    "## Regression"
   ]
  },
  {
   "cell_type": "markdown",
   "metadata": {},
   "source": [
    "We define our regression problems below as minimizing etheir the 1 or 2 norm of $Xb-y$. The rows of $X$ are our examples, the columns the 11 defining features, $y$ the associated quality, and $b$ our regression variable."
   ]
  },
  {
   "cell_type": "code",
   "execution_count": 65,
   "metadata": {},
   "outputs": [],
   "source": [
    "#Setup matrices and define minimization problems using CVXPY\n",
    "def reg(df, vb=False):\n",
    "    X = df.loc[:,:'alcohol'].to_numpy()\n",
    "    y = df.loc[:,'quality'].to_numpy()\n",
    "\n",
    "    b1 = cvp.Variable(c-1,)\n",
    "    b2 = cvp.Variable(c-1,)\n",
    "    obj1 = cvp.Minimize(cvp.norm(X@b1-y, 1))\n",
    "    obj2 = cvp.Minimize(cvp.norm(X@b2-y))\n",
    "\n",
    "    prob1 = cvp.Problem(obj1, [])\n",
    "    prob2 = cvp.Problem(obj2, [])\n",
    "    \n",
    "    prob1.solve(verbose=vb)\n",
    "    prob2.solve(verbose=vb)\n",
    "    \n",
    "    return b1.value, b2.value"
   ]
  },
  {
   "cell_type": "code",
   "execution_count": 9,
   "metadata": {},
   "outputs": [],
   "source": [
    "#Solve minimization problems and extract estimators\n",
    "b1, b2 = reg(wine_df)"
   ]
  },
  {
   "cell_type": "markdown",
   "metadata": {},
   "source": [
    "## Analysis"
   ]
  },
  {
   "cell_type": "markdown",
   "metadata": {},
   "source": [
    "Having solved our minimization problem we now want to analyze the results. Below we can see a table with the estimators for each attribute as generated by the two problems."
   ]
  },
  {
   "cell_type": "code",
   "execution_count": 46,
   "metadata": {},
   "outputs": [
    {
     "data": {
      "text/html": [
       "<div>\n",
       "<style scoped>\n",
       "    .dataframe tbody tr th:only-of-type {\n",
       "        vertical-align: middle;\n",
       "    }\n",
       "\n",
       "    .dataframe tbody tr th {\n",
       "        vertical-align: top;\n",
       "    }\n",
       "\n",
       "    .dataframe thead th {\n",
       "        text-align: right;\n",
       "    }\n",
       "</style>\n",
       "<table border=\"1\" class=\"dataframe\">\n",
       "  <thead>\n",
       "    <tr style=\"text-align: right;\">\n",
       "      <th></th>\n",
       "      <th>fixed acidity</th>\n",
       "      <th>volatile acidity</th>\n",
       "      <th>citric acid</th>\n",
       "      <th>residual sugar</th>\n",
       "      <th>chlorides</th>\n",
       "      <th>free sulfur dioxide</th>\n",
       "      <th>total sulfur dioxide</th>\n",
       "      <th>density</th>\n",
       "      <th>pH</th>\n",
       "      <th>sulphates</th>\n",
       "      <th>alcohol</th>\n",
       "    </tr>\n",
       "  </thead>\n",
       "  <tbody>\n",
       "    <tr>\n",
       "      <th>b 1-norm</th>\n",
       "      <td>-0.028980</td>\n",
       "      <td>-2.074623</td>\n",
       "      <td>-0.165467</td>\n",
       "      <td>0.027271</td>\n",
       "      <td>-1.742145</td>\n",
       "      <td>0.005338</td>\n",
       "      <td>-0.000913</td>\n",
       "      <td>1.156920</td>\n",
       "      <td>0.397387</td>\n",
       "      <td>0.559358</td>\n",
       "      <td>0.364033</td>\n",
       "    </tr>\n",
       "    <tr>\n",
       "      <th>b 2-norm</th>\n",
       "      <td>-0.050591</td>\n",
       "      <td>-1.958510</td>\n",
       "      <td>-0.029349</td>\n",
       "      <td>0.024988</td>\n",
       "      <td>-0.942584</td>\n",
       "      <td>0.004791</td>\n",
       "      <td>-0.000878</td>\n",
       "      <td>2.042047</td>\n",
       "      <td>0.168395</td>\n",
       "      <td>0.416453</td>\n",
       "      <td>0.365633</td>\n",
       "    </tr>\n",
       "    <tr>\n",
       "      <th>Diff</th>\n",
       "      <td>0.021610</td>\n",
       "      <td>0.116113</td>\n",
       "      <td>0.136118</td>\n",
       "      <td>0.002282</td>\n",
       "      <td>0.799561</td>\n",
       "      <td>0.000547</td>\n",
       "      <td>0.000035</td>\n",
       "      <td>0.885126</td>\n",
       "      <td>0.228992</td>\n",
       "      <td>0.142905</td>\n",
       "      <td>0.001600</td>\n",
       "    </tr>\n",
       "  </tbody>\n",
       "</table>\n",
       "</div>"
      ],
      "text/plain": [
       "          fixed acidity  volatile acidity  citric acid  residual sugar  \\\n",
       "b 1-norm      -0.028980         -2.074623    -0.165467        0.027271   \n",
       "b 2-norm      -0.050591         -1.958510    -0.029349        0.024988   \n",
       "Diff           0.021610          0.116113     0.136118        0.002282   \n",
       "\n",
       "          chlorides  free sulfur dioxide  total sulfur dioxide   density  \\\n",
       "b 1-norm  -1.742145             0.005338             -0.000913  1.156920   \n",
       "b 2-norm  -0.942584             0.004791             -0.000878  2.042047   \n",
       "Diff       0.799561             0.000547              0.000035  0.885126   \n",
       "\n",
       "                pH  sulphates   alcohol  \n",
       "b 1-norm  0.397387   0.559358  0.364033  \n",
       "b 2-norm  0.168395   0.416453  0.365633  \n",
       "Diff      0.228992   0.142905  0.001600  "
      ]
     },
     "execution_count": 46,
     "metadata": {},
     "output_type": "execute_result"
    }
   ],
   "source": [
    "pd.DataFrame([b1,b2,np.abs(b1-b2)], ['b 1-norm', 'b 2-norm', 'Diff'], wine_df.columns[:11])"
   ]
  },
  {
   "cell_type": "markdown",
   "metadata": {},
   "source": [
    "It is clear that our two methods have similar results in some attributes (e.g. residual sugar and alcohol), while others differ quite a lot (e.g. density and chlorides). We are interested in qualifying how well our two estimators are performing, and their relative differences. To do this we will examine the residuals of the final estimator."
   ]
  },
  {
   "cell_type": "code",
   "execution_count": 68,
   "metadata": {},
   "outputs": [
    {
     "name": "stdout",
     "output_type": "stream",
     "text": [
      "1-norm Number Incorrect:  2628.0\n",
      "2-norm Number Incorrect:  2631.0\n"
     ]
    }
   ],
   "source": [
    "A = wine_df.loc[:,:'alcohol'].to_numpy()\n",
    "y = wine_df.loc[:,'quality'].to_numpy()\n",
    "\n",
    "r1 = A@b1 - y\n",
    "r2 = A@b2 - y\n",
    "\n",
    "print('1-norm Number Incorrect: ',np.linalg.norm(np.around(r1),1))\n",
    "print('2-norm Number Incorrect: ',np.linalg.norm(np.around(r2),1))"
   ]
  },
  {
   "cell_type": "markdown",
   "metadata": {},
   "source": [
    "Given that the quality attribute is a discrete value we first round our residuals to the nearest integer, and then examine the 1-norm. We can see that they are making about the same number of incorrect predicitons -- which is about half of the data. "
   ]
  },
  {
   "cell_type": "code",
   "execution_count": 82,
   "metadata": {},
   "outputs": [
    {
     "data": {
      "image/png": "[encoded data removed]",
      "text/plain": [
       "<Figure size 864x576 with 2 Axes>"
      ]
     },
     "metadata": {},
     "output_type": "display_data"
    }
   ],
   "source": [
    "fig, ax = plt.subplots(1, 2, figsize=(12,8))\n",
    "sns.histplot(x=r1, ax=ax[0])\n",
    "sns.histplot(x=r2, ax=ax[1])\n",
    "\n",
    "ax[0].set_title('l1 Residuals')\n",
    "ax[1].set_title('l2 Residuals');"
   ]
  },
  {
   "cell_type": "code",
   "execution_count": 84,
   "metadata": {},
   "outputs": [
    {
     "data": {
      "image/png": "[encoded data removed]",
      "text/plain": [
       "<Figure size 864x432 with 2 Axes>"
      ]
     },
     "metadata": {},
     "output_type": "display_data"
    }
   ],
   "source": [
    "fig, ax = plt.subplots(1, 2, figsize=(12,6))\n",
    "sns.scatterplot(x='density', y='quality', data=wine_df, ax=ax[0])\n",
    "\n",
    "z = np.abs(stats.zscore(wine_df))\n",
    "wine_df_o = wine_df[(z < 3).all(axis=1)]\n",
    "\n",
    "sns.scatterplot(x='density', y='quality', data=wine_df_o, ax=ax[1])\n",
    "\n",
    "ax[0].set_title('With Outliers')\n",
    "ax[1].set_title('Without Outliers');"
   ]
  },
  {
   "cell_type": "markdown",
   "metadata": {},
   "source": [
    "In the figures above we see quality plotted against the density feature. On the left we can clearly see two significant outliers. Examination of the other attributes show this is not limited to the density feature. We remove these outliers by removing data that is more than three standard deviations from the mean, and on the right we see the result for the density feature. Lets try to re-run the regression having hopefully removed the outliers in our data."
   ]
  },
  {
   "cell_type": "code",
   "execution_count": 66,
   "metadata": {},
   "outputs": [],
   "source": [
    "b1_o, b2_o = reg(wine_df_o)"
   ]
  },
  {
   "cell_type": "code",
   "execution_count": 75,
   "metadata": {},
   "outputs": [
    {
     "data": {
      "text/html": [
       "<div>\n",
       "<style scoped>\n",
       "    .dataframe tbody tr th:only-of-type {\n",
       "        vertical-align: middle;\n",
       "    }\n",
       "\n",
       "    .dataframe tbody tr th {\n",
       "        vertical-align: top;\n",
       "    }\n",
       "\n",
       "    .dataframe thead th {\n",
       "        text-align: right;\n",
       "    }\n",
       "</style>\n",
       "<table border=\"1\" class=\"dataframe\">\n",
       "  <thead>\n",
       "    <tr style=\"text-align: right;\">\n",
       "      <th></th>\n",
       "      <th>fixed acidity</th>\n",
       "      <th>volatile acidity</th>\n",
       "      <th>citric acid</th>\n",
       "      <th>residual sugar</th>\n",
       "      <th>chlorides</th>\n",
       "      <th>free sulfur dioxide</th>\n",
       "      <th>total sulfur dioxide</th>\n",
       "      <th>density</th>\n",
       "      <th>pH</th>\n",
       "      <th>sulphates</th>\n",
       "      <th>alcohol</th>\n",
       "    </tr>\n",
       "  </thead>\n",
       "  <tbody>\n",
       "    <tr>\n",
       "      <th>1-norm</th>\n",
       "      <td>-0.007381</td>\n",
       "      <td>-1.915205</td>\n",
       "      <td>0.032697</td>\n",
       "      <td>0.028823</td>\n",
       "      <td>-6.326302</td>\n",
       "      <td>0.006167</td>\n",
       "      <td>-0.000946</td>\n",
       "      <td>0.740972</td>\n",
       "      <td>0.512398</td>\n",
       "      <td>0.669023</td>\n",
       "      <td>0.355596</td>\n",
       "    </tr>\n",
       "    <tr>\n",
       "      <th>2-norm</th>\n",
       "      <td>-0.025006</td>\n",
       "      <td>-1.770778</td>\n",
       "      <td>-0.023527</td>\n",
       "      <td>0.026326</td>\n",
       "      <td>-5.270536</td>\n",
       "      <td>0.006037</td>\n",
       "      <td>-0.000689</td>\n",
       "      <td>1.596757</td>\n",
       "      <td>0.307160</td>\n",
       "      <td>0.423343</td>\n",
       "      <td>0.355452</td>\n",
       "    </tr>\n",
       "    <tr>\n",
       "      <th>Diff</th>\n",
       "      <td>0.017625</td>\n",
       "      <td>0.144427</td>\n",
       "      <td>0.056224</td>\n",
       "      <td>0.002497</td>\n",
       "      <td>1.055766</td>\n",
       "      <td>0.000130</td>\n",
       "      <td>0.000257</td>\n",
       "      <td>0.855785</td>\n",
       "      <td>0.205239</td>\n",
       "      <td>0.245680</td>\n",
       "      <td>0.000144</td>\n",
       "    </tr>\n",
       "  </tbody>\n",
       "</table>\n",
       "</div>"
      ],
      "text/plain": [
       "        fixed acidity  volatile acidity  citric acid  residual sugar  \\\n",
       "1-norm      -0.007381         -1.915205     0.032697        0.028823   \n",
       "2-norm      -0.025006         -1.770778    -0.023527        0.026326   \n",
       "Diff         0.017625          0.144427     0.056224        0.002497   \n",
       "\n",
       "        chlorides  free sulfur dioxide  total sulfur dioxide   density  \\\n",
       "1-norm  -6.326302             0.006167             -0.000946  0.740972   \n",
       "2-norm  -5.270536             0.006037             -0.000689  1.596757   \n",
       "Diff     1.055766             0.000130              0.000257  0.855785   \n",
       "\n",
       "              pH  sulphates   alcohol  \n",
       "1-norm  0.512398   0.669023  0.355596  \n",
       "2-norm  0.307160   0.423343  0.355452  \n",
       "Diff    0.205239   0.245680  0.000144  "
      ]
     },
     "execution_count": 75,
     "metadata": {},
     "output_type": "execute_result"
    }
   ],
   "source": [
    "pd.DataFrame([b1_o,b2_o,np.abs(b1_o-b2_o)], ['1-norm', '2-norm', 'Diff'], wine_df.columns[:11])"
   ]
  },
  {
   "cell_type": "markdown",
   "metadata": {},
   "source": [
    "On a first glance this doesn't appear to have changed the estimators too much, but lets repeat our residual analysis."
   ]
  },
  {
   "cell_type": "code",
   "execution_count": 71,
   "metadata": {},
   "outputs": [
    {
     "name": "stdout",
     "output_type": "stream",
     "text": [
      "1-norm Number Incorrect:  2391.0\n",
      "2-norm Number Incorrect:  2409.0\n"
     ]
    }
   ],
   "source": [
    "A = wine_df_o.loc[:,:'alcohol'].to_numpy()\n",
    "y = wine_df_o.loc[:,'quality'].to_numpy()\n",
    "\n",
    "r1 = A@b1_o - y\n",
    "r2 = A@b2_o - y\n",
    "\n",
    "print('1-norm Number Incorrect: ',np.linalg.norm(np.around(r1),1))\n",
    "print('2-norm Number Incorrect: ',np.linalg.norm(np.around(r2),1))"
   ]
  },
  {
   "cell_type": "code",
   "execution_count": 85,
   "metadata": {},
   "outputs": [
    {
     "data": {
      "image/png": "[encoded data removed]",
      "text/plain": [
       "<Figure size 864x576 with 2 Axes>"
      ]
     },
     "metadata": {},
     "output_type": "display_data"
    }
   ],
   "source": [
    "fig, ax = plt.subplots(1, 2, figsize=(12,8))\n",
    "sns.histplot(x=r1, ax=ax[0])\n",
    "sns.histplot(x=r2, ax=ax[1])\n",
    "\n",
    "ax[0].set_title('l1 Residuals')\n",
    "ax[1].set_title('l2 Residuals');"
   ]
  },
  {
   "cell_type": "markdown",
   "metadata": {},
   "source": [
    "It certainly appears that removing the outliers has increased the prediction ability of our model, which makes sense. Overall, based on my analysis, it is not immediately obvious what separates our two regression methods. It does appear that $\\ell_1$ is doing a better job at prediction, but besides that it is not immediately clear if one is overall a better approach in this situation."
   ]
  }
 ],
 "metadata": {
  "kernelspec": {
   "display_name": "Python 3",
   "language": "python",
   "name": "python3"
  },
  "language_info": {
   "codemirror_mode": {
    "name": "ipython",
    "version": 3
   },
   "file_extension": ".py",
   "mimetype": "text/x-python",
   "name": "python",
   "nbconvert_exporter": "python",
   "pygments_lexer": "ipython3",
   "version": "3.8.5"
  }
 },
 "nbformat": 4,
 "nbformat_minor": 4
}
