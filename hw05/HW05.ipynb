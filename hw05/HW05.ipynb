{
 "cells": [
  {
   "cell_type": "markdown",
   "id": "environmental-deviation",
   "metadata": {},
   "source": [
    "## Problem 4"
   ]
  },
  {
   "cell_type": "markdown",
   "id": "lyric-gazette",
   "metadata": {},
   "source": [
    "Skimmed"
   ]
  },
  {
   "cell_type": "markdown",
   "id": "worthy-evaluation",
   "metadata": {},
   "source": [
    "## Problem 5"
   ]
  },
  {
   "cell_type": "markdown",
   "id": "precious-merit",
   "metadata": {},
   "source": [
    "### The Dual SLAM Problem"
   ]
  },
  {
   "cell_type": "markdown",
   "id": "antique-catering",
   "metadata": {},
   "source": [
    "There are a lot of interesting optimization problems in the task of Simultaneous Localization and Mapping (SLAM). [This paper](https://arxiv.org/abs/1506.00746) investigates the formulation of a dual problem for SLAM and uses it for verification. I would propose perhaps implementing the paper or trying to extend it in some way. I would be interested in trying to leverage something about this duality for finding a solution as opposed to just verification."
   ]
  },
  {
   "cell_type": "markdown",
   "id": "global-relationship",
   "metadata": {},
   "source": [
    "### Robotic Path Planning Through Convex Optimization"
   ]
  },
  {
   "cell_type": "markdown",
   "id": "serious-picking",
   "metadata": {},
   "source": [
    "Convex optimization methods for robotic path planning in some interesting context."
   ]
  },
  {
   "cell_type": "markdown",
   "id": "sophisticated-cause",
   "metadata": {},
   "source": [
    "### Alternate Approaches for Training Neural ODEs"
   ]
  },
  {
   "cell_type": "markdown",
   "id": "incorrect-kinase",
   "metadata": {},
   "source": [
    "I am not really sure what this would entail, but I think these types of networks ([NODE](https://arxiv.org/pdf/1806.07366.pdf), [ANODE](https://arxiv.org/pdf/1904.01681.pdf), [LTC](https://arxiv.org/pdf/2006.04439.pdf), etc.) are very interesting. I propose potentially investigating alternate methods of training."
   ]
  },
  {
   "cell_type": "markdown",
   "id": "reported-defeat",
   "metadata": {},
   "source": [
    "## Problem 6"
   ]
  },
  {
   "cell_type": "markdown",
   "id": "defined-device",
   "metadata": {},
   "source": [
    "Project Partner -> Jaden Wang\n",
    "\n",
    "It is my understanding that Jaden talked to you about us being in a group together and just listing the other's name, but that I should explicitly remind you here."
   ]
  }
 ],
 "metadata": {
  "kernelspec": {
   "display_name": "Python 3",
   "language": "python",
   "name": "python3"
  },
  "language_info": {
   "codemirror_mode": {
    "name": "ipython",
    "version": 3
   },
   "file_extension": ".py",
   "mimetype": "text/x-python",
   "name": "python",
   "nbconvert_exporter": "python",
   "pygments_lexer": "ipython3",
   "version": "3.8.5"
  }
 },
 "nbformat": 4,
 "nbformat_minor": 5
}
