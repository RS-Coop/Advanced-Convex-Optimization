{
 "cells": [
  {
   "cell_type": "markdown",
   "id": "northern-street",
   "metadata": {},
   "source": [
    "In this notebook we will investigate Logistic Regression -- a binary classification task. Our goal is to solve a specific instantiation of this machine learning problem using a Gradient Descent algorithm implemented here. Before we begin, we will import neccessary packages and note some prelimary math."
   ]
  },
  {
   "cell_type": "code",
   "execution_count": 39,
   "id": "divided-charger",
   "metadata": {},
   "outputs": [],
   "source": [
    "import numpy as np\n",
    "import numpy.linalg as lg\n",
    "import pandas as pd\n",
    "import scipy.special as sps\n",
    "import matplotlib.pyplot as plt\n",
    "import seaborn as sns\n",
    "sns.set()\n",
    "rng = np.random.default_rng()"
   ]
  },
  {
   "cell_type": "markdown",
   "id": "interested-drawing",
   "metadata": {},
   "source": [
    "We have a data matrix $\\mathbf{X}\\in\\mathbb{R}^{n x p}$ whose ith row is a set of features relating to some observation, and we are looking for the weights $\\mathbf{w}\\in\\mathbb{R}^p$. Each observation $\\mathbf{x}_i$ has a binary response $y_i$ which is either -1 or 1.\n",
    "\n",
    "Our loss function is the negative log-likelihood defined below:\n",
    "\n",
    "$$ \\ell(\\mathbf{w})=\\sum_{i=1}^n\\log(1+e^{-y_i\\mathbf{w}^T\\mathbf{x}_i}) $$\n",
    "\n",
    "The gradient of this is given as follows:\n",
    "\n",
    "$$ \\nabla\\ell(\\mathbf{w})=-\\sum_{i=1}^n\\sigma(-y_i\\mathbf{w}^T\\mathbf{x}_i)y_i\\mathbf{x}_i $$"
   ]
  },
  {
   "cell_type": "markdown",
   "id": "proud-necessity",
   "metadata": {},
   "source": [
    "In the code below we define the negative log-likelihood, its gradient, and its hessian (which was not shown above). We note that the code may look somewhat different as it has been condensed into matrix-vector form, but the result is the same."
   ]
  },
  {
   "cell_type": "code",
   "execution_count": 40,
   "id": "premier-blend",
   "metadata": {},
   "outputs": [],
   "source": [
    "'''\n",
    "w -> px1 column vector\n",
    "X -> nxp matrix\n",
    "y -> nx1 column vector\n",
    "'''\n",
    "\n",
    "#negative log-likelihood\n",
    "#returns scalar\n",
    "def nLogLike(w, X, y):\n",
    "    l = np.logaddexp(np.zeros(y.shape), -y*X@w)\n",
    "    return np.sum(l)\n",
    "\n",
    "#negative log-likelihood gradient\n",
    "#returns vector\n",
    "def nLogLike_grad(w, X, y):\n",
    "    u = sps.expit(-y*(X@w))\n",
    "    \n",
    "    return -X.T@(y*u)\n",
    "\n",
    "#negative log-likelihood hessian\n",
    "#returns matrix\n",
    "def nLogLike_hess(w, X, y):\n",
    "    u = sps.expit(-y*(X@w))\n",
    "    S = np.diag(u*(1-u))\n",
    "    \n",
    "    return X.T@S@X"
   ]
  },
  {
   "cell_type": "markdown",
   "id": "sorted-banana",
   "metadata": {},
   "source": [
    "## Problem 1"
   ]
  },
  {
   "cell_type": "markdown",
   "id": "chief-entertainment",
   "metadata": {},
   "source": [
    "As we will be using Gradient Descent we will be working with the gradient of our loss function. Below we define a class which implements two methods to validate the gradient of a given function. Specifically, we implement a Dolfin Adjoint check and a Complex Step check which are both fast and numerically stable."
   ]
  },
  {
   "cell_type": "code",
   "execution_count": 42,
   "id": "particular-latino",
   "metadata": {},
   "outputs": [],
   "source": [
    "'''\n",
    "Class with methods to validate the gradient of a given function.\n",
    "\n",
    "Initialization:\n",
    "    f -> function\n",
    "    grad -> function gradient\n",
    "'''\n",
    "class GradChecker():\n",
    "    def __init__(self, f, grad):\n",
    "        self.f = f\n",
    "        self.grad = grad\n",
    "        \n",
    "        self.dispatcher = {\n",
    "            'dolfin': self.dolfinAdj,\n",
    "            'complex': self.complexStep,\n",
    "        }\n",
    "        \n",
    "    def reset(self, f, grad):\n",
    "        self.f = f\n",
    "        self.grad = grad\n",
    "        \n",
    "    def check(self, method='dolfin', x0=None, dim=None, kwargs={}):\n",
    "        checker = self.dispatcher[method]\n",
    "        self.kw = kwargs\n",
    "        \n",
    "        rng = np.random.default_rng()\n",
    "        \n",
    "        if dim is not None:\n",
    "            x0 = rng.integers(0,100,(dim,1)) #Random vector\n",
    "            \n",
    "        checker(x0)\n",
    "    \n",
    "    #NOTE: assumes hessian is smooth\n",
    "    def dolfinAdj(self, x0):\n",
    "        valid = True\n",
    "        \n",
    "        rng = np.random.default_rng()\n",
    "        \n",
    "        x1 = x0*rng.random(x0.shape) #random vector\n",
    "        f = self.f(x0, **self.kw)\n",
    "        \n",
    "        h = np.geomspace(1e-7, 1.0, 8)\n",
    "        \n",
    "        for i in range(7,0,-1):\n",
    "            f0 = self.f(x0 + h[i]*x1, **self.kw)\n",
    "            e0 = np.abs(f + np.vdot(self.grad(x0, **self.kw), h[i]*x1) - f0)\n",
    "            \n",
    "            f1 = self.f(x0 + h[i-1]*x1, **self.kw)\n",
    "            e1 = np.abs(f + np.vdot(self.grad(x0, **self.kw), h[i-1]*x1) - f1)\n",
    "            \n",
    "            if e0!=0 and e1!=0:\n",
    "                order = np.rint(np.log(e1/e0) / np.log(h[i-1]/h[i]))\n",
    "                if order != 2:\n",
    "                    print('Order violated: {}'.format(order))\n",
    "                    print('Error k,k+1: {},{} \\n'.format(e0, e1))\n",
    "                    \n",
    "                    valid = False\n",
    "        \n",
    "        print('Gradient is valid: {} \\n'.format(valid))\n",
    "    \n",
    "    #NOTE: assuming a few things related to complex numbers \n",
    "    #e.g. analyticity of f\n",
    "    def complexStep(self, x0):\n",
    "        valid = True\n",
    "        \n",
    "        g0 = self.grad(x0, **self.kw)\n",
    "        \n",
    "        h = np.geomspace(1e-7, 1.0, 8)\n",
    "        \n",
    "        for i in range(7,0,-1):\n",
    "            e0 = np.abs(np.sum(g0) - np.imag(self.f(x0 + h[i]*1j, **self.kw) / h[i]))\n",
    "            \n",
    "            e1 = np.abs(np.sum(g0) - np.imag(self.f(x0 + h[i-1]*1j, **self.kw) / h[i-1]))\n",
    "            \n",
    "            \n",
    "            if e0!=0 and e1!=0:\n",
    "                order = np.rint(np.log(e1/e0) / np.log(h[i-1]/h[i]))\n",
    "                if order != 2:\n",
    "                    print('Order violated: {}'.format(order))\n",
    "                    print('Error k,k+1: {}, {} \\n'.format(e0, e1))\n",
    "\n",
    "                    valid = False\n",
    "                    \n",
    "        print('Gradient is valid: {} \\n'.format(valid))"
   ]
  },
  {
   "cell_type": "markdown",
   "id": "palestinian-differential",
   "metadata": {},
   "source": [
    "Before we verify that our gradient implemented above is correct we need to make sure that our method of checking is valid. Who checks that the method to check the method that checks is correct? No one knows.\n",
    "\n",
    "Note that there is an amount of randomness in the methods implemented above (especially if not specific input is given). Thus we may see in some cases the output changes, but that the true embedded result will stay the same. We can see an example of this in the output immediately below."
   ]
  },
  {
   "cell_type": "code",
   "execution_count": 47,
   "id": "frozen-capability",
   "metadata": {},
   "outputs": [
    {
     "name": "stdout",
     "output_type": "stream",
     "text": [
      "Order violated: [[-0.]]\n",
      "Error k,k+1: [[2.84217094e-14]],[[2.84217094e-14]] \n",
      "\n",
      "Order violated: [[-0.]]\n",
      "Error k,k+1: [[2.84217094e-14]],[[2.84217094e-14]] \n",
      "\n",
      "Gradient is valid: False \n",
      "\n",
      "Gradient is valid: True \n",
      "\n"
     ]
    }
   ],
   "source": [
    "#Linear 1D\n",
    "GC = GradChecker(lambda x: 3*x+2, lambda x: 3)\n",
    "GC.check(method='dolfin', dim=1)\n",
    "GC.check(method='complex', dim=1)"
   ]
  },
  {
   "cell_type": "markdown",
   "id": "frozen-piece",
   "metadata": {},
   "source": [
    "The above output is the result of checking a simple 1D linear function. We can see that the Dolfin Adjoint output seems to be indicating a problem, but further investigation reveals this isn't the case. Specifically, we see that the error is almost zero (as we expect), so even though it is constant, the gradient is still correct. This is further validated by the output of the Complex Step method."
   ]
  },
  {
   "cell_type": "code",
   "execution_count": 48,
   "id": "optional-mason",
   "metadata": {},
   "outputs": [
    {
     "name": "stdout",
     "output_type": "stream",
     "text": [
      "Gradient is valid: True \n",
      "\n",
      "Gradient is valid: True \n",
      "\n"
     ]
    }
   ],
   "source": [
    "#Quadratic\n",
    "GC.reset(lambda x: 2*lg.norm(x)**2+1, lambda x: 4*x)\n",
    "GC.check(method='dolfin', dim=1)\n",
    "GC.check(method='dolfin', dim=100)"
   ]
  },
  {
   "cell_type": "markdown",
   "id": "surface-praise",
   "metadata": {},
   "source": [
    "The Dolfin Adjoint method verifies the gradient of a quadratic for 1 and 100 dimensional input. We note that the Complex Step method cannot be used in this case."
   ]
  },
  {
   "cell_type": "code",
   "execution_count": 49,
   "id": "gothic-interstate",
   "metadata": {},
   "outputs": [
    {
     "name": "stdout",
     "output_type": "stream",
     "text": [
      "Order violated: 1.0\n",
      "Error k,k+1: 0.016738292912123143,0.0009111543349717977 \n",
      "\n",
      "Order violated: 1.0\n",
      "Error k,k+1: 0.0009111543349717977,0.00011696526871673996 \n",
      "\n",
      "Order violated: 1.0\n",
      "Error k,k+1: 0.00011696526871673996,1.1955025911447592e-05 \n",
      "\n",
      "Order violated: 1.0\n",
      "Error k,k+1: 1.1955025911447592e-05,1.1980873750871979e-06 \n",
      "\n",
      "Order violated: 1.0\n",
      "Error k,k+1: 1.1980873750871979e-06,1.1983411241089925e-07 \n",
      "\n",
      "Gradient is valid: False \n",
      "\n",
      "Order violated: 3.0\n",
      "Error k,k+1: 21.900984321488068,0.02304461132735014 \n",
      "\n",
      "Order violated: -0.0\n",
      "Error k,k+1: 0.02304461132735014,0.02443589165341109 \n",
      "\n",
      "Order violated: 1.0\n",
      "Error k,k+1: 0.02443589165341109,0.002664903295226395 \n",
      "\n",
      "Order violated: 1.0\n",
      "Error k,k+1: 0.002664903295226395,0.0002687035594135523 \n",
      "\n",
      "Order violated: 1.0\n",
      "Error k,k+1: 0.0002687035594135523,2.6892521418631077e-05 \n",
      "\n",
      "Gradient is valid: False \n",
      "\n"
     ]
    }
   ],
   "source": [
    "#Incorrect\n",
    "GC.reset(lambda x: 2*lg.norm(x)**2+1, lambda x: 4*x+0.1)\n",
    "GC.check(method='dolfin', dim=1)\n",
    "GC.check(method='dolfin', dim=100)"
   ]
  },
  {
   "cell_type": "markdown",
   "id": "afraid-destination",
   "metadata": {},
   "source": [
    "This time we have purposely entered the incorrect gradient for the quadratic and we see the Dolfin Adjoint method correctly identifies it."
   ]
  },
  {
   "cell_type": "code",
   "execution_count": 52,
   "id": "removable-complement",
   "metadata": {},
   "outputs": [
    {
     "name": "stdout",
     "output_type": "stream",
     "text": [
      "Gradient is valid: True \n",
      "\n",
      "Gradient is valid: True \n",
      "\n"
     ]
    }
   ],
   "source": [
    "#Cubic\n",
    "GC.reset(lambda x: (1/3)*x**3+10, lambda x: x**2)\n",
    "GC.check(method='dolfin', dim=1)\n",
    "GC.check(method='complex', dim=1)"
   ]
  },
  {
   "cell_type": "markdown",
   "id": "major-basketball",
   "metadata": {},
   "source": [
    "Both methods work on a cubic."
   ]
  },
  {
   "cell_type": "code",
   "execution_count": 53,
   "id": "humanitarian-coupon",
   "metadata": {},
   "outputs": [
    {
     "name": "stdout",
     "output_type": "stream",
     "text": [
      "Gradient is valid: True \n",
      "\n",
      "Gradient is valid: True \n",
      "\n"
     ]
    }
   ],
   "source": [
    "#Big and small\n",
    "z = rng.standard_normal((10,1))\n",
    "\n",
    "GC.reset(lambda x: 2*lg.norm(x)**2+1, lambda x: 4*x)\n",
    "GC.check(method='dolfin', dim=10, x0=1e-6*z)\n",
    "GC.check(method='dolfin', dim=10, x0=1e6*z)"
   ]
  },
  {
   "cell_type": "markdown",
   "id": "brilliant-submission",
   "metadata": {},
   "source": [
    "Lastly, we validate the Dolfin Adjoint method on large and small inputs and it works well."
   ]
  },
  {
   "cell_type": "markdown",
   "id": "meaningful-marketing",
   "metadata": {},
   "source": [
    "It seems like our methods are working as expected, so lets see if the gradient for our negative log-likelihood is correct."
   ]
  },
  {
   "cell_type": "code",
   "execution_count": 54,
   "id": "imperial-laugh",
   "metadata": {},
   "outputs": [],
   "source": [
    "p = rng.integers(2,100)\n",
    "n = rng.integers(p,100)\n",
    "\n",
    "GC = GradChecker(nLogLike, nLogLike_grad)\n",
    "\n",
    "kw = {'X' : np.ones((n,p)), 'y' : np.ones((p,1))}"
   ]
  },
  {
   "cell_type": "code",
   "execution_count": 58,
   "id": "funded-spirituality",
   "metadata": {},
   "outputs": [
    {
     "name": "stdout",
     "output_type": "stream",
     "text": [
      "Gradient is valid: True \n",
      "\n"
     ]
    }
   ],
   "source": [
    "GC.check(method='dolfin', dim=p, kwargs=kw)"
   ]
  },
  {
   "cell_type": "markdown",
   "id": "sought-pontiac",
   "metadata": {},
   "source": [
    "Whew! That was a lot, but we are now prepared to move on."
   ]
  },
  {
   "cell_type": "markdown",
   "id": "fossil-scout",
   "metadata": {},
   "source": [
    "## Problem 2"
   ]
  },
  {
   "cell_type": "markdown",
   "id": "overall-company",
   "metadata": {},
   "source": [
    "Here we will define a linesearch procedure which is useful in Gradient Descent for determining the step size in a proposed search direction."
   ]
  },
  {
   "cell_type": "code",
   "execution_count": 59,
   "id": "nasty-parking",
   "metadata": {},
   "outputs": [],
   "source": [
    "'''\n",
    "Linesearch procedure for determining step size in search direction.\n",
    "\n",
    "Input:\n",
    "    x -> current location\n",
    "    p -> search direction\n",
    "    t -> initial stepsize\n",
    "    f -> function\n",
    "    grad -> gradient\n",
    "Output:\n",
    "    stepsize in search direction p\n",
    "'''\n",
    "def linesearch(x, p, t, f, grad, kw, c=1e-4, r=0.9):\n",
    "    \n",
    "    fk = f(x, **kw)\n",
    "    gk = grad(x, **kw)\n",
    "    \n",
    "    while f(x+t*p, **kw) > \\\n",
    "            fk + c*t*(gk.T@p):\n",
    "        \n",
    "        t = r*t\n",
    "        \n",
    "    return t"
   ]
  },
  {
   "cell_type": "markdown",
   "id": "least-guide",
   "metadata": {},
   "source": [
    "## Problem 3"
   ]
  },
  {
   "cell_type": "markdown",
   "id": "another-category",
   "metadata": {},
   "source": [
    "We will implement a custom Gradient Descent solver which minimizes a function by using its gradient. We include both fixed stepsize and linesearch as options."
   ]
  },
  {
   "cell_type": "code",
   "execution_count": 139,
   "id": "turkish-bolivia",
   "metadata": {},
   "outputs": [],
   "source": [
    "from numpy.linalg import norm\n",
    "import warnings\n",
    "'''\n",
    "Gradient Descent solver\n",
    "\n",
    "Input:\n",
    "    x0 -> starting location\n",
    "    f -> function\n",
    "    grad -> function gradient\n",
    "    stepsize -> fixed or linesearch\n",
    "    rtol -> relative tolerance\n",
    "    maxitr -> maximum iterations\n",
    "    \n",
    "Return: minimizer of f\n",
    "'''\n",
    "def gradDescent(x0, f, grad, kw, step, steptype='fixed', \n",
    "                rtol=1e-5, atol=1e-8, maxItr=1000):\n",
    "    \n",
    "    assert steptype in ['fixed', 'linesearch']\n",
    "\n",
    "    x_vec = [x0]\n",
    "    \n",
    "    for i in range(maxItr):\n",
    "        x1 = x0 - step*grad(x0, **kw)\n",
    "        \n",
    "        x_vec.append(x1)\n",
    "        \n",
    "        if norm(x1-x0) < atol + rtol*norm(x0):\n",
    "            return x1, np.array(x_vec)\n",
    "        \n",
    "        x0 = x1\n",
    "        \n",
    "        if steptype == 'linesearch':\n",
    "            step = linesearch(x0, -grad(x0,**kw), step*2, f, grad, kw)\n",
    "    \n",
    "    warnings.warn('Maximum iterations exceeded without \\\n",
    "                  reaching specified tolerance.', RuntimeWarning)\n",
    "    \n",
    "    return x1, np.array(x_vec)"
   ]
  },
  {
   "cell_type": "markdown",
   "id": "little-moldova",
   "metadata": {},
   "source": [
    "To test the viability of our method we will consider a least squares type problem with $f(x)=\\frac{1}{2}||\\mathbf{Ax}-\\mathbf{b}||^2$. In this case we have a closed form solution that we can compare our numerical method to.\n",
    "\n",
    "Below we define the function and its gradient."
   ]
  },
  {
   "cell_type": "code",
   "execution_count": 141,
   "id": "simple-bottle",
   "metadata": {},
   "outputs": [],
   "source": [
    "def f(x, A, b):\n",
    "    return 0.5*(norm(A@x-b))**2\n",
    "\n",
    "def gf(x, A, b):\n",
    "    return A.T@(A@x-b)"
   ]
  },
  {
   "cell_type": "markdown",
   "id": "minor-opinion",
   "metadata": {},
   "source": [
    "Next, we will define a random gaussian matrix and random Gaussian RHS of a random size and compare the results of our two methods. We note that an iid Gaussian matrix is full rank with probability 1."
   ]
  },
  {
   "cell_type": "code",
   "execution_count": 150,
   "id": "affecting-revision",
   "metadata": {},
   "outputs": [],
   "source": [
    "p = rng.integers(30,100)\n",
    "n = rng.integers(p,100)\n",
    "\n",
    "m, s = rng.integers(-4,4), rng.integers(1,3)\n",
    "A = rng.normal(m, s, (n,p))\n",
    "b = rng.normal(m, s, (n,1))\n",
    "\n",
    "x0 = np.ones((p,1))\n",
    "\n",
    "kw = {'A' : A, 'b' : b}"
   ]
  },
  {
   "cell_type": "code",
   "execution_count": 151,
   "id": "adult-charge",
   "metadata": {},
   "outputs": [
    {
     "data": {
      "text/plain": [
       "(83, 55)"
      ]
     },
     "execution_count": 151,
     "metadata": {},
     "output_type": "execute_result"
    }
   ],
   "source": [
    "A.shape"
   ]
  },
  {
   "cell_type": "code",
   "execution_count": 152,
   "id": "published-nicaragua",
   "metadata": {},
   "outputs": [],
   "source": [
    "analytic = np.linalg.solve(A.T@A, A.T@b)"
   ]
  },
  {
   "cell_type": "code",
   "execution_count": 153,
   "id": "brilliant-reduction",
   "metadata": {},
   "outputs": [],
   "source": [
    "t0 = norm(A, 2)**-2\n",
    "\n",
    "n_fixed, x_fixed = gradDescent(x0, f, gf, kw, t0)\n",
    "\n",
    "n_line, x_line = gradDescent(x0, f, gf, kw, t0, \n",
    "                               steptype='linesearch')"
   ]
  },
  {
   "cell_type": "code",
   "execution_count": 154,
   "id": "sexual-portsmouth",
   "metadata": {},
   "outputs": [
    {
     "name": "stdout",
     "output_type": "stream",
     "text": [
      "Analytic vs. Fixed: 0.001566052287834858\n",
      "Analytic vs. Linesearch: 0.000162560008385913\n"
     ]
    }
   ],
   "source": [
    "print('Analytic vs. Fixed: {}'.format(norm(analytic-n_fixed)))\n",
    "print('Analytic vs. Linesearch: {}'.format(norm(analytic-n_line)))"
   ]
  },
  {
   "cell_type": "markdown",
   "id": "tribal-crazy",
   "metadata": {},
   "source": [
    "We see that our Gradient Descent algorithm in both fixed and linesearch modes have converged to result similar to the analytic solution."
   ]
  },
  {
   "cell_type": "code",
   "execution_count": 155,
   "id": "unnecessary-active",
   "metadata": {},
   "outputs": [
    {
     "data": {
      "image/png": "[encoded data removed]",
      "text/plain": [
       "<Figure size 720x576 with 1 Axes>"
      ]
     },
     "metadata": {},
     "output_type": "display_data"
    }
   ],
   "source": [
    "fig, ax = plt.subplots(1,1,figsize=(10,8))\n",
    "ax.plot(range(0,x_fixed.shape[0]), norm(x_fixed-analytic, axis=1))\n",
    "ax.plot(range(0,x_line.shape[0]), norm(x_line-analytic, axis=1))\n",
    "\n",
    "ax.set_xlabel('Iteration')\n",
    "ax.set_ylabel('Error')\n",
    "ax.legend(['Fixed stepsize', 'Linesearch']);"
   ]
  },
  {
   "cell_type": "markdown",
   "id": "respected-compact",
   "metadata": {},
   "source": [
    "In the plot above we can see the error per iteration of our Gradient Descent algorithm. We note that both modes converge, but that linesearch seems to improve the convergence rate -- which is expected."
   ]
  },
  {
   "cell_type": "markdown",
   "id": "funded-bangladesh",
   "metadata": {},
   "source": [
    "## Problem 4"
   ]
  },
  {
   "cell_type": "markdown",
   "id": "charming-indication",
   "metadata": {},
   "source": [
    "Using the tools we have developed up to now we will consider the task of spam email classification. To do this we are using the spambase dataset which we load below and then examine."
   ]
  },
  {
   "cell_type": "code",
   "execution_count": 156,
   "id": "phantom-millennium",
   "metadata": {},
   "outputs": [
    {
     "name": "stdout",
     "output_type": "stream",
     "text": [
      "(4601, 58)\n"
     ]
    }
   ],
   "source": [
    "data = pd.read_csv('spam_data/spambase.data', sep=\",\", header=None)\n",
    "print(data.shape)"
   ]
  },
  {
   "cell_type": "markdown",
   "id": "furnished-painting",
   "metadata": {},
   "source": [
    "We see we have 4,601 samples with 58 features each. This is exactly what we expect from the documentation."
   ]
  },
  {
   "cell_type": "code",
   "execution_count": 157,
   "id": "tough-democracy",
   "metadata": {},
   "outputs": [
    {
     "name": "stdout",
     "output_type": "stream",
     "text": [
      "0\n"
     ]
    }
   ],
   "source": [
    "print(data.isnull().sum().sum())"
   ]
  },
  {
   "cell_type": "markdown",
   "id": "afraid-police",
   "metadata": {},
   "source": [
    "We have no missing data which is great."
   ]
  },
  {
   "cell_type": "code",
   "execution_count": 158,
   "id": "suited-trading",
   "metadata": {},
   "outputs": [],
   "source": [
    "X = data.loc[:,0:56]\n",
    "y = data.loc[:,57]"
   ]
  },
  {
   "cell_type": "code",
   "execution_count": 159,
   "id": "authorized-nepal",
   "metadata": {},
   "outputs": [
    {
     "name": "stdout",
     "output_type": "stream",
     "text": [
      "0    2788\n",
      "1    1813\n",
      "Name: 57, dtype: int64\n"
     ]
    }
   ],
   "source": [
    "print(y.value_counts())"
   ]
  },
  {
   "cell_type": "markdown",
   "id": "advanced-luther",
   "metadata": {},
   "source": [
    "We see that we have 2,788 negative examples (not spam), and 1,813 positive samples (spam).\n",
    "\n",
    "Now we will preprocess our data by transforming the features and mapping the labels from {0,1} to {-1,1}."
   ]
  },
  {
   "cell_type": "code",
   "execution_count": 160,
   "id": "coupled-freeze",
   "metadata": {},
   "outputs": [],
   "source": [
    "X = X.apply(lambda x: np.log(x+0.1))\n",
    "y = y.replace(0, -1)"
   ]
  },
  {
   "cell_type": "code",
   "execution_count": 161,
   "id": "sonic-enlargement",
   "metadata": {},
   "outputs": [
    {
     "name": "stdout",
     "output_type": "stream",
     "text": [
      "-1    2788\n",
      " 1    1813\n",
      "Name: 57, dtype: int64\n"
     ]
    }
   ],
   "source": [
    "print(y.value_counts())"
   ]
  },
  {
   "cell_type": "markdown",
   "id": "interesting-avenue",
   "metadata": {},
   "source": [
    "The output above just serves to validate that our preprocessing worked as we still have the same number of positive and negative examples.\n",
    "\n",
    "Next we will shuffle our data and extract training and testing splits."
   ]
  },
  {
   "cell_type": "code",
   "execution_count": 162,
   "id": "permanent-blocking",
   "metadata": {},
   "outputs": [],
   "source": [
    "from sklearn.model_selection import train_test_split as split\n",
    "\n",
    "X_train, X_test, y_train, y_test = split(X, y, test_size=3065, random_state=57, \n",
    "                    shuffle=True, stratify=y)"
   ]
  },
  {
   "cell_type": "code",
   "execution_count": 163,
   "id": "magnetic-theta",
   "metadata": {},
   "outputs": [],
   "source": [
    "kw_train = {'X' : X_train.to_numpy(), \n",
    "            'y' : np.expand_dims(y_train.to_numpy(),1)}\n",
    "\n",
    "kw_test = {'X' : X_test.to_numpy(), \n",
    "           'y' : np.expand_dims(y_test.to_numpy(),1)}"
   ]
  },
  {
   "cell_type": "markdown",
   "id": "laden-neutral",
   "metadata": {},
   "source": [
    "We are ready to train, so we will run the linesearch mode of our Gradient Descent on the training data."
   ]
  },
  {
   "cell_type": "code",
   "execution_count": 164,
   "id": "reflected-legislation",
   "metadata": {},
   "outputs": [
    {
     "name": "stderr",
     "output_type": "stream",
     "text": [
      "<ipython-input-139-3d62410e2001>:36: RuntimeWarning: Maximum iterations exceeded without                   reaching specified tolerance.\n",
      "  warnings.warn('Maximum iterations exceeded without \\\n"
     ]
    }
   ],
   "source": [
    "t0 = norm(X_train, 2)**-2\n",
    "x0 = np.ones((X_train.shape[1],1))\n",
    "\n",
    "w, w_itr = gradDescent(x0, nLogLike, nLogLike_grad, kw_train, t0, \n",
    "                               steptype='linesearch')"
   ]
  },
  {
   "cell_type": "markdown",
   "id": "statistical-assessment",
   "metadata": {},
   "source": [
    "We have set our max number of iterations at 1000, but it is not necessarily bad that we haven't reached our tolerance. Lets see if we can qualify how well our estimator is doing."
   ]
  },
  {
   "cell_type": "code",
   "execution_count": 165,
   "id": "close-regard",
   "metadata": {},
   "outputs": [],
   "source": [
    "def error(X, w, y):\n",
    "    cls = np.rint(sps.expit(X@w))\n",
    "    for i in range(cls.shape[0]):\n",
    "        if cls[i] == 0:\n",
    "            cls[i] = -1\n",
    "            \n",
    "    return np.sum(np.abs(cls-y)/2)/y.shape[0]"
   ]
  },
  {
   "cell_type": "code",
   "execution_count": 166,
   "id": "ecological-bruce",
   "metadata": {},
   "outputs": [
    {
     "name": "stdout",
     "output_type": "stream",
     "text": [
      "Train error: 0.046875\n",
      "Test error: 0.059380097879282216\n"
     ]
    }
   ],
   "source": [
    "print('Train error: {}'.format(error(kw_train['X'], w, kw_train['y'])))\n",
    "print('Test error: {}'.format(error(kw_test['X'], w, kw_test['y'])))"
   ]
  },
  {
   "cell_type": "markdown",
   "id": "civic-sequence",
   "metadata": {},
   "source": [
    "It looks like we have about 94% accuracy on the testing data which is pretty good."
   ]
  },
  {
   "cell_type": "code",
   "execution_count": 170,
   "id": "enabling-welding",
   "metadata": {},
   "outputs": [
    {
     "data": {
      "image/png": "[encoded data removed]",
      "text/plain": [
       "<Figure size 720x576 with 1 Axes>"
      ]
     },
     "metadata": {},
     "output_type": "display_data"
    }
   ],
   "source": [
    "fig, ax = plt.subplots(1,1,figsize=(10,8))\n",
    "r = range(0,w_itr.shape[0])\n",
    "ax.plot(r, [nLogLike(w_itr[i], **kw_train) for i in r])\n",
    "\n",
    "ax.set_xlabel('Iteration')\n",
    "ax.set_ylabel('Function Value');"
   ]
  },
  {
   "cell_type": "markdown",
   "id": "prerequisite-seeker",
   "metadata": {},
   "source": [
    "We are trying to minimize the negative log-likelihood, and the plot above shows we are doing just that. Given the initially large values it is hard to tell if we are converging at the end or not."
   ]
  },
  {
   "cell_type": "code",
   "execution_count": 171,
   "id": "minimal-garbage",
   "metadata": {},
   "outputs": [
    {
     "data": {
      "image/png": "[encoded data removed]",
      "text/plain": [
       "<Figure size 720x576 with 1 Axes>"
      ]
     },
     "metadata": {},
     "output_type": "display_data"
    }
   ],
   "source": [
    "fig, ax = plt.subplots(1,1,figsize=(10,8))\n",
    "r = range(800,w_itr.shape[0])\n",
    "ax.plot(r, [nLogLike(w_itr[i], **kw_train) for i in r])\n",
    "\n",
    "ax.set_xlabel('Iteration')\n",
    "ax.set_ylabel('Function Value');"
   ]
  },
  {
   "cell_type": "markdown",
   "id": "romantic-screening",
   "metadata": {},
   "source": [
    "It looks like we haven't converged yet, so this implies we could potentially train for further iterations. Although I am not sure if this would cause overfitting."
   ]
  }
 ],
 "metadata": {
  "kernelspec": {
   "display_name": "Python 3",
   "language": "python",
   "name": "python3"
  },
  "language_info": {
   "codemirror_mode": {
    "name": "ipython",
    "version": 3
   },
   "file_extension": ".py",
   "mimetype": "text/x-python",
   "name": "python",
   "nbconvert_exporter": "python",
   "pygments_lexer": "ipython3",
   "version": "3.7.9"
  }
 },
 "nbformat": 4,
 "nbformat_minor": 5
}
